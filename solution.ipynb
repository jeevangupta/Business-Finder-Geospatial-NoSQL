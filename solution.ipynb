{
 "cells": [
  {
   "cell_type": "code",
   "execution_count": null,
   "metadata": {},
   "outputs": [],
   "source": [
    "from unqlite import UnQLite\n",
    "\n",
    "db = UnQLite('sample.db')\n",
    "data = db.collection('data')"
   ]
  },
  {
   "cell_type": "code",
   "execution_count": null,
   "metadata": {},
   "outputs": [],
   "source": [
    "# Graded Cell, PartID: o1flK\n",
    "\n",
    "def FindBusinessBasedOnCity(cityToSearch, saveLocation1, collection):\n",
    "    #print(type(collection.fetch(0)))\n",
    "    \n",
    "    result = collection.filter(lambda obj: cityToSearch in obj['full_address'].decode())\n",
    "    \n",
    "    output= open(saveLocation1,\"w+\")\n",
    "    \n",
    "    for r in result:\n",
    "        if cityToSearch in r['full_address'].decode():\n",
    "            name = r['name'].decode()\n",
    "            state = r['state'].decode()\n",
    "            city = r['city'].decode()\n",
    "            full_address = r['full_address'].decode()\n",
    "            \n",
    "            output.write(f'{name} | {full_address} | {city} | {state} \\n')\n",
    "    \n",
    "    output.close()\n",
    "     \n",
    "    pass\n",
    "\n"
   ]
  },
  {
   "cell_type": "code",
   "execution_count": null,
   "metadata": {},
   "outputs": [],
   "source": [
    "true_results = [\"VinciTorio's Restaurant$1835 E Elliot Rd, Ste C109, Tempe, AZ 85284$Tempe$AZ\", \"P.croissants$7520 S Rural Rd, Tempe, AZ 85283$Tempe$AZ\", \"Salt Creek Home$1725 W Ruby Dr, Tempe, AZ 85284$Tempe$AZ\"]\n",
    "\n",
    "try:\n",
    "    FindBusinessBasedOnCity('Tempe', './data/output_city.txt', data)\n",
    "except NameError as e:\n",
    "    print ('The FindBusinessBasedOnCity function is not defined! You must run the cell containing the function before running this evaluation cell.')\n",
    "except TypeError as e:\n",
    "    print (\"The FindBusinessBasedOnCity function is supposed to accept three arguments. Yours does not!\")\n",
    "    \n",
    "try:\n",
    "    opf = open('./data/output_city.txt', 'r')\n",
    "except FileNotFoundError as e:\n",
    "    print (\"The FindBusinessBasedOnCity function does not write data to the correct location.\")\n",
    "    \n",
    "lines = opf.readlines()\n",
    "if len(lines) != 3:\n",
    "    print (\"The FindBusinessBasedOnCity function does not find the correct number of results, should be 3.\")\n",
    "    \n",
    "lines = [line.strip() for line in lines]\n",
    "if sorted(lines) == sorted(true_results):\n",
    "    print (\"Correct! You FindBusinessByCity function passes these test cases. This does not cover all possible test edge cases, however, so make sure that your function covers them before submitting!\")\n",
    "\n"
   ]
  },
  {
   "cell_type": "code",
   "execution_count": null,
   "metadata": {},
   "outputs": [],
   "source": [
    "from math import sin, cos, sqrt, atan2, radians\n",
    "\n",
    "def FindBusinessBasedOnLocation(categoriesToSearch, myLocation, maxDistance, saveLocation2, collection): \n",
    "    \n",
    "    #get business based on categoriesToSearch\n",
    "    result = collection.filter(lambda obj: set(categoriesToSearch) <= set([x.decode() for x in obj['categories']]))\n",
    "    \n",
    "    #open file to write data\n",
    "    output= open(saveLocation2,\"w+\")\n",
    "    \n",
    "    R = 3959; # Aproximate Earth Radius in miles\n",
    "    lat1 = radians(myLocation[0])\n",
    "    lon1 = radians(myLocation[1])\n",
    "    \n",
    "    for r in result:\n",
    "        lat2 = radians(r[\"latitude\"])\n",
    "        lon2 = radians(r[\"longitude\"])\n",
    "        dlat = lat2 - lat1\n",
    "        dlon = lon2 - lon1\n",
    "\n",
    "        a = sin(dlat / 2)**2 + cos(lat1) * cos(lat2) * sin(dlon / 2)**2\n",
    "        c = 2 * atan2(sqrt(a), sqrt(1 - a))\n",
    "        distance = R * c\n",
    "\n",
    "        if distance <= maxDistance:\n",
    "            name = r['name'].decode()\n",
    "            output.write(f'\\n {name} \\n ')\n",
    "    \n",
    "    output.close()\n",
    "    pass"
   ]
  },
  {
   "cell_type": "code",
   "execution_count": null,
   "metadata": {},
   "outputs": [],
   "source": [
    "true_results = [\"VinciTorio's Restaurant\"]\n",
    "\n",
    "try:\n",
    "    FindBusinessBasedOnLocation(['Buffets'], [33.3482589, -111.9088346], 10, './data/output_loc.txt', data)\n",
    "except NameError as e: \n",
    "    print ('The FindBusinessBasedOnLocation function is not defined! You must run the cell containing the function before running this evaluation cell.')\n",
    "except TypeError as e:\n",
    "    print (\"The FindBusinessBasedOnLocation function is supposed to accept five arguments. Yours does not!\")\n",
    "    \n",
    "try:\n",
    "    opf = open('./data/output_loc.txt','r')\n",
    "except FileNotFoundError as e:\n",
    "    print (\"The FindBusinessBasedOnLocation function does not write data to the correct location.\")\n",
    "\n",
    "lines = opf.readlines()\n",
    "if len(lines) != 1:\n",
    "    print (\"The FindBusinessBasedOnLocation function does not find the correct number of results, should be only 1.\")\n",
    "\n",
    "if lines[0].strip() == true_results[0]:\n",
    "    print (\"Correct! Your FindBusinessBasedOnLocation function passes these test cases. This does not cover all possible edge cases, so make sure your function does before submitting.\")"
   ]
  },
  {
   "cell_type": "code",
   "execution_count": null,
   "metadata": {},
   "outputs": [],
   "source": []
  }
 ],
 "metadata": {
  "kernelspec": {
   "display_name": "Python 3 (ipykernel)",
   "language": "python",
   "name": "python3"
  },
  "language_info": {
   "codemirror_mode": {
    "name": "ipython",
    "version": 3
   },
   "file_extension": ".py",
   "mimetype": "text/x-python",
   "name": "python",
   "nbconvert_exporter": "python",
   "pygments_lexer": "ipython3",
   "version": "3.8.3"
  }
 },
 "nbformat": 4,
 "nbformat_minor": 4
}
